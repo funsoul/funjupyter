{
 "cells": [
  {
   "cell_type": "markdown",
   "metadata": {},
   "source": [
    "## 链家花都二手房市分析\n",
    "\n",
    "### 采集数据\n",
    "\n",
    "#### 2019-12-18\n",
    "\n",
    "lianjia_huadou_ershoufang_2019-12-18_17:28:27.csv"
   ]
  },
  {
   "cell_type": "code",
   "execution_count": 22,
   "metadata": {},
   "outputs": [
    {
     "name": "stdout",
     "output_type": "stream",
     "text": [
      "字段：['Unnamed: 0', 'introduction', 'url', 'price', 'unit_price', 'community', 'street', 'room_type', 'acreage', 'toward', 'decoration', 'floor_type', 'floor_total', 'year', 'type', 'follow', 'release_time']\n",
      "\n",
      "首条数据：[[0, '天马河公馆  地铁口  业主急卖,东南对流', 'https://gz.lianjia.com/ershoufang/108400823463.html', 158.0, 17025, '天马丽苑二期 ', '铁路西', '3室2厅', 92.81, '北', '精装', '中楼', 35, '2015', '塔楼', 14, '26天以前发布']]\n",
      "\n"
     ]
    }
   ],
   "source": [
    "# -*- coding: utf-8 -*-\n",
    "import re\n",
    "import pandas as pd\n",
    "import datetime\n",
    "import time\n",
    "import sys\n",
    "\n",
    "\n",
    "class Analysis(object):\n",
    "    df = ''\n",
    "\n",
    "    def __init__(self, filename):\n",
    "        self.df = pd.read_csv(filename)\n",
    "\n",
    "        \n",
    "    def header_names(self):\n",
    "        print(\"字段：{}\\n\" . format(list(self.df)))\n",
    "        \n",
    "    def one_data(self):\n",
    "        print(\"首条数据：{}\\n\" . format(self.df[:1].values.tolist()))\n",
    "        \n",
    "    def all_mean(self):\n",
    "        print('二手房总价平均（万）: {}\\n' . format(self.df['price'].mean().round(0)))\n",
    "\n",
    "    def area_count(self):\n",
    "        print('区域房源数（套）：\\n{}\\n' . format(self.df['street'].value_counts()))\n",
    "\n",
    "    def area_mean(self):\n",
    "        print('区域总价平均（万）：\\n{}\\n' . format(self.df.pivot_table('price', index='street', aggfunc='mean')\n",
    "                                        .sort_values(by='price', ascending=False).round()))\n",
    "\n",
    "    def all_unit_price_mean(self):\n",
    "        print('全区单价平均（元）：\\n{}\\n' . format(self.df['unit_price'].mean().round(0)))\n",
    "\n",
    "    def area_unit_price_mean(self):\n",
    "        print('区域单价平均（元）：\\n{}\\n'.format(self.df.pivot_table('unit_price', index='street', aggfunc='mean')\n",
    "                                      .sort_values(by='unit_price', ascending=False).round(0)))\n",
    "\n",
    "    def decoration_unit_price_mean(self):\n",
    "        print('装修单价平均（元）：\\n{}\\n'.format(self.df.pivot_table('unit_price', index='decoration', aggfunc='mean')\n",
    "                                      .sort_values(by='unit_price', ascending=False).round(0)))\n",
    "\n",
    "    def toward_unit_price_mean(self):\n",
    "        print('朝向单价平均（元）：\\n{}\\n'.format(self.df.pivot_table('unit_price', index='toward', aggfunc='mean')\n",
    "                                      .sort_values(by='unit_price', ascending=False).round(0)))\n",
    "\n",
    "    def room_type_unit_price_mean(self):\n",
    "        print('房型单价平均（元）：\\n{}\\n'.format(self.df.pivot_table('unit_price', index='room_type', aggfunc='mean')\n",
    "                                      .sort_values(by='unit_price', ascending=False).round(0)))\n",
    "\n",
    "\n",
    "\n",
    "al = Analysis('./lianjia_huadou_ershoufang_2019-12-18_17:28:27.csv')\n",
    "al.header_names()\n",
    "al.one_data()"
   ]
  },
  {
   "cell_type": "markdown",
   "metadata": {},
   "source": [
    "## 二手房总价平均（万）"
   ]
  },
  {
   "cell_type": "code",
   "execution_count": 23,
   "metadata": {},
   "outputs": [
    {
     "name": "stdout",
     "output_type": "stream",
     "text": [
      "二手房总价平均（万）: 174.0\n",
      "\n"
     ]
    }
   ],
   "source": [
    "al.all_mean()"
   ]
  },
  {
   "cell_type": "markdown",
   "metadata": {},
   "source": [
    "## 区域房源数（套）"
   ]
  },
  {
   "cell_type": "code",
   "execution_count": 24,
   "metadata": {},
   "outputs": [
    {
     "name": "stdout",
     "output_type": "stream",
     "text": [
      "区域房源数（套）：\n",
      "旧区      858\n",
      "新区      465\n",
      "铁路西     451\n",
      "狮岭镇     382\n",
      "镜湖大道    356\n",
      "花东镇     256\n",
      "花山镇     144\n",
      "北兴镇      42\n",
      "炭步       25\n",
      "山前大道     21\n",
      "Name: street, dtype: int64\n",
      "\n"
     ]
    }
   ],
   "source": [
    "al.area_count()"
   ]
  },
  {
   "cell_type": "markdown",
   "metadata": {},
   "source": [
    "## 区域总价平均（万）"
   ]
  },
  {
   "cell_type": "code",
   "execution_count": 25,
   "metadata": {},
   "outputs": [
    {
     "name": "stdout",
     "output_type": "stream",
     "text": [
      "区域总价平均（万）：\n",
      "        price\n",
      "street       \n",
      "新区      232.0\n",
      "镜湖大道    221.0\n",
      "铁路西     184.0\n",
      "北兴镇     168.0\n",
      "旧区      154.0\n",
      "狮岭镇     145.0\n",
      "花山镇     141.0\n",
      "炭步      122.0\n",
      "花东镇     121.0\n",
      "山前大道     98.0\n",
      "\n"
     ]
    }
   ],
   "source": [
    "al.area_mean()"
   ]
  },
  {
   "cell_type": "markdown",
   "metadata": {},
   "source": [
    "## 区域单价平均（元）"
   ]
  },
  {
   "cell_type": "code",
   "execution_count": 26,
   "metadata": {},
   "outputs": [
    {
     "name": "stdout",
     "output_type": "stream",
     "text": [
      "区域单价平均（元）：\n",
      "        unit_price\n",
      "street            \n",
      "新区         20554.0\n",
      "镜湖大道       20410.0\n",
      "铁路西        17784.0\n",
      "花山镇        17258.0\n",
      "旧区         14941.0\n",
      "花东镇        13349.0\n",
      "狮岭镇        12520.0\n",
      "北兴镇        12037.0\n",
      "炭步         11464.0\n",
      "山前大道        8784.0\n",
      "\n"
     ]
    }
   ],
   "source": [
    "al.area_unit_price_mean()"
   ]
  },
  {
   "cell_type": "markdown",
   "metadata": {},
   "source": [
    "## 全区单价平均（元）"
   ]
  },
  {
   "cell_type": "code",
   "execution_count": 27,
   "metadata": {},
   "outputs": [
    {
     "name": "stdout",
     "output_type": "stream",
     "text": [
      "全区单价平均（元）：\n",
      "16442.0\n",
      "\n"
     ]
    }
   ],
   "source": [
    "al.all_unit_price_mean()"
   ]
  },
  {
   "cell_type": "markdown",
   "metadata": {},
   "source": [
    "## 装修单价平均（元）"
   ]
  },
  {
   "cell_type": "code",
   "execution_count": 28,
   "metadata": {},
   "outputs": [
    {
     "name": "stdout",
     "output_type": "stream",
     "text": [
      "装修单价平均（元）：\n",
      "            unit_price\n",
      "decoration            \n",
      "毛坯             17141.0\n",
      "精装             16963.0\n",
      "其他             16736.0\n",
      "简装             14513.0\n",
      "\n"
     ]
    }
   ],
   "source": [
    "al.decoration_unit_price_mean()"
   ]
  },
  {
   "cell_type": "markdown",
   "metadata": {},
   "source": [
    "## 房型单价平均（元）"
   ]
  },
  {
   "cell_type": "code",
   "execution_count": 29,
   "metadata": {},
   "outputs": [
    {
     "name": "stdout",
     "output_type": "stream",
     "text": [
      "房型单价平均（元）：\n",
      "           unit_price\n",
      "room_type            \n",
      "6室4厅          34897.0\n",
      "8室3厅          25627.0\n",
      "6室2厅          23188.0\n",
      "5室1厅          21314.0\n",
      "6室3厅          20768.0\n",
      "7室2厅          19365.0\n",
      "4室3厅          19355.0\n",
      "3室3厅          18503.0\n",
      "5室2厅          17630.0\n",
      "3室2厅          16978.0\n",
      "1室2厅          16690.0\n",
      "5室3厅          16320.0\n",
      "4室2厅          16313.0\n",
      "2室2厅          15842.0\n",
      "2室1厅          15820.0\n",
      "4室1厅          15286.0\n",
      "3室1厅          14867.0\n",
      "1室0厅          14827.0\n",
      "1室1厅          14658.0\n",
      "\n"
     ]
    }
   ],
   "source": [
    "al.room_type_unit_price_mean()"
   ]
  },
  {
   "cell_type": "markdown",
   "metadata": {},
   "source": [
    "## 朝向单价平均（元）"
   ]
  },
  {
   "cell_type": "code",
   "execution_count": 30,
   "metadata": {},
   "outputs": [
    {
     "name": "stdout",
     "output_type": "stream",
     "text": [
      "朝向单价平均（元）：\n",
      "             unit_price\n",
      "toward                 \n",
      "东南 西南           22611.0\n",
      "东 东南 南 西南       22478.0\n",
      "南 东北            20762.0\n",
      "北 东             20634.0\n",
      "西北 北            20348.0\n",
      "东 西南            19613.0\n",
      "南 东南            19162.0\n",
      "东南 北 南          19133.0\n",
      "东 南             18615.0\n",
      "东 西 南           18120.0\n",
      "南 西北            17771.0\n",
      "西南              17723.0\n",
      "北 南             17683.0\n",
      "东北              17421.0\n",
      "东 西             17337.0\n",
      "西 北             17329.0\n",
      "东南              17278.0\n",
      "南 东             17127.0\n",
      "西南 东北           16603.0\n",
      "北               16600.0\n",
      "西 南             16549.0\n",
      "东南 南 西南         16278.0\n",
      "南               16242.0\n",
      "东南 西北           16239.0\n",
      "东 北             16193.0\n",
      "南 北 东南          16067.0\n",
      "东南 南            15996.0\n",
      "南 西南            15840.0\n",
      "南 北             15833.0\n",
      "东               15719.0\n",
      "西南 东南           15579.0\n",
      "西               15291.0\n",
      "西北              14874.0\n",
      "东南 北            13218.0\n",
      "东 东南 南 北 东北     12991.0\n",
      "西 西南            12499.0\n",
      "南 西             12288.0\n",
      "西南 西            11679.0\n",
      "西 南 北           10933.0\n",
      "北 南 东南          10874.0\n",
      "东南 南 北           9415.0\n",
      "西北 北 东北          8041.0\n",
      "\n"
     ]
    }
   ],
   "source": [
    "al.toward_unit_price_mean()"
   ]
  },
  {
   "cell_type": "code",
   "execution_count": null,
   "metadata": {},
   "outputs": [],
   "source": []
  }
 ],
 "metadata": {
  "kernelspec": {
   "display_name": "Python 3",
   "language": "python",
   "name": "python3"
  },
  "language_info": {
   "codemirror_mode": {
    "name": "ipython",
    "version": 3
   },
   "file_extension": ".py",
   "mimetype": "text/x-python",
   "name": "python",
   "nbconvert_exporter": "python",
   "pygments_lexer": "ipython3",
   "version": "3.7.3"
  }
 },
 "nbformat": 4,
 "nbformat_minor": 2
}
